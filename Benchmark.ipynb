{
 "cells": [
  {
   "cell_type": "code",
   "execution_count": 1,
   "id": "smaller-nirvana",
   "metadata": {},
   "outputs": [],
   "source": [
    "%matplotlib inline\n",
    "import matplotlib.pyplot as plt"
   ]
  },
  {
   "cell_type": "code",
   "execution_count": 2,
   "id": "peripheral-standing",
   "metadata": {},
   "outputs": [],
   "source": [
    "import functools\n",
    "import json\n",
    "import os\n",
    "import ssl\n",
    "import time\n",
    "\n",
    "import fsspec\n",
    "import irods_fsspec\n",
    "from fsspec.registry import get_filesystem_class\n",
    "from irods.session import iRODSSession\n",
    "irods_fsspec.register()"
   ]
  },
  {
   "cell_type": "code",
   "execution_count": 3,
   "id": "curious-technical",
   "metadata": {},
   "outputs": [],
   "source": [
    "import logging\n",
    "# logging.basicConfig(level='DEBUG')"
   ]
  },
  {
   "cell_type": "code",
   "execution_count": 4,
   "id": "annoying-adobe",
   "metadata": {},
   "outputs": [],
   "source": [
    "_ENV = None\n",
    "ssl_context = ssl.create_default_context(purpose=ssl.Purpose.SERVER_AUTH, cafile=None, capath=None, cadata=None)\n",
    "try:\n",
    "    env_file = os.environ['IRODS_ENVIRONMENT_FILE']\n",
    "except KeyError:\n",
    "    env_file = os.path.expanduser('~/.irods/irods_environment.json')\n",
    "# session = iRODSSession(irods_env_file=env_file, ssl_context=ssl_context)\n",
    "with open(env_file, 'r') as f:\n",
    "    _ENV = json.load(f)"
   ]
  },
  {
   "cell_type": "code",
   "execution_count": 5,
   "id": "overhead-grenada",
   "metadata": {},
   "outputs": [],
   "source": [
    "test_subcollection = f'/iplant/home/{_ENV[\"irods_user_name\"]}/delete_me_benchmark_test'\n",
    "with iRODSSession(irods_env_file=env_file, ssl_context=ssl_context) as session:\n",
    "    if not session.collections.exists(test_subcollection):\n",
    "        session.collections.create(test_subcollection)"
   ]
  },
  {
   "cell_type": "code",
   "execution_count": 8,
   "id": "negative-gibraltar",
   "metadata": {},
   "outputs": [],
   "source": [
    "@functools.lru_cache(None)\n",
    "def measure_data_object_create_delete(n_iter):\n",
    "    # pre-emptive cleanup of incomplete benchmarks\n",
    "    with iRODSSession(irods_env_file=env_file, ssl_context=ssl_context) as session:\n",
    "        for i in range(n_iter):\n",
    "            test_file_path = test_subcollection + f'/test_{i}.txt'\n",
    "            if session.data_objects.exists(test_file_path):\n",
    "                session.data_objects.unlink(test_file_path)\n",
    "    \n",
    "    \n",
    "    with iRODSSession(irods_env_file=env_file, ssl_context=ssl_context) as session:\n",
    "        start = time.perf_counter()\n",
    "        for i in range(n_iter):\n",
    "            test_file = session.data_objects.create(test_subcollection + f'/test_{i}.txt')\n",
    "            with test_file.open(mode='w') as f:\n",
    "                f.write(b'foo!\\n')\n",
    "\n",
    "    create_elapsed = time.perf_counter() - start\n",
    "    create_t_per_iter = create_elapsed / n_iter\n",
    "    print(f'created {n_iter} in {create_elapsed} s -- {create_t_per_iter} s / iter')\n",
    "\n",
    "    with iRODSSession(irods_env_file=env_file, ssl_context=ssl_context) as session:\n",
    "        start = time.perf_counter()\n",
    "        for i in range(n_iter):\n",
    "            test_file_path = test_subcollection + f'/test_{i}.txt'\n",
    "            session.data_objects.unlink(test_file_path)\n",
    "    unlink_elapsed = time.perf_counter() - start\n",
    "    unlink_t_per_iter = unlink_elapsed / n_iter\n",
    "    print(f'deleted {n_iter} in {unlink_elapsed} s -- {unlink_t_per_iter} s / iter')\n",
    "    return create_t_per_iter, unlink_t_per_iter"
   ]
  },
  {
   "cell_type": "code",
   "execution_count": 11,
   "id": "pacific-fiction",
   "metadata": {},
   "outputs": [
    {
     "name": "stdout",
     "output_type": "stream",
     "text": [
      "created 20 in 51.42954418599993 s -- 2.5714772092999967 s / iter\n",
      "deleted 20 in 48.909453074999874 s -- 2.445472653749994 s / iter\n"
     ]
    },
    {
     "data": {
      "text/plain": [
       "(2.5714772092999967, 2.445472653749994)"
      ]
     },
     "execution_count": 11,
     "metadata": {},
     "output_type": "execute_result"
    }
   ],
   "source": [
    "measure_data_object_create_delete(20)"
   ]
  },
  {
   "cell_type": "code",
   "execution_count": null,
   "id": "animal-swiss",
   "metadata": {},
   "outputs": [],
   "source": [
    "n_iter_vals = [1, 5, 10, 50, 100, 150]\n",
    "create_t_per_iter_vals = []\n",
    "unlink_t_per_iter_vals = []\n",
    "for n_iter in n_iter_vals:\n",
    "    print(n_iter)\n",
    "    create_t_per_iter, unlink_t_per_iter = measure_data_object_create_delete(n_iter)\n",
    "    create_t_per_iter_vals.append(create_t_per_iter)\n",
    "    unlink_t_per_iter_vals.append(unlink_t_per_iter)"
   ]
  },
  {
   "cell_type": "code",
   "execution_count": null,
   "id": "eastern-medicine",
   "metadata": {},
   "outputs": [],
   "source": [
    "plt.plot(n_iter_vals, create_t_per_iter_vals, label='Create iRODS data object')\n",
    "plt.plot(n_iter_vals, unlink_t_per_iter_vals, label='Unlink iRODS data object')\n",
    "plt.xlabel('N iterations')\n",
    "plt.ylabel('sec / iteration')\n",
    "plt.grid()"
   ]
  },
  {
   "cell_type": "code",
   "execution_count": null,
   "id": "fossil-monkey",
   "metadata": {},
   "outputs": [],
   "source": [
    "plt.plot(n_iter_vals, create_t_per_iter_vals, label='Create iRODS data object')\n",
    "plt.plot(n_iter_vals, unlink_t_per_iter_vals, label='Unlink iRODS data object')\n",
    "plt.axhline(1/3500, ls=':', label='Upload AWS S3 object')\n",
    "plt.xlabel('N iterations')\n",
    "plt.ylabel('sec / iteration')\n",
    "plt.yscale('log')\n",
    "plt.legend()\n",
    "plt.grid()"
   ]
  },
  {
   "cell_type": "code",
   "execution_count": null,
   "id": "floral-adaptation",
   "metadata": {},
   "outputs": [],
   "source": [
    "@functools.lru_cache(None)\n",
    "def measure_data_object_get(n_iter):\n",
    "    for i in range(n_iter):\n",
    "        test_file_path = test_subcollection + f'/test_{i}.txt'\n",
    "        if not session.data_objects.exists(test_file_path):\n",
    "            test_file = session.data_objects.create(test_file_path)\n",
    "            with test_file.open(mode='w') as f:\n",
    "                f.write(b'foo!\\n')\n",
    "    \n",
    "    start = time.perf_counter()\n",
    "    for i in range(n_iter):\n",
    "        test_file = session.data_objects.get(test_subcollection + f'/test_{i}.txt')\n",
    "        with test_file.open(mode='r') as f:\n",
    "            _ = f.read()\n",
    "\n",
    "    get_elapsed = time.perf_counter() - start\n",
    "    get_t_per_iter = get_elapsed / n_iter\n",
    "    print(f'got {n_iter} in {get_elapsed} s -- {get_t_per_iter} s / iter')\n",
    "    return get_t_per_iter"
   ]
  },
  {
   "cell_type": "code",
   "execution_count": null,
   "id": "abandoned-status",
   "metadata": {},
   "outputs": [],
   "source": [
    "get_t_per_iter_vals = []\n",
    "for n_iter in n_iter_vals:\n",
    "    print(n_iter)\n",
    "    get_t_per_iter = measure_data_object_get(n_iter)\n",
    "    get_t_per_iter_vals.append(get_t_per_iter)"
   ]
  },
  {
   "cell_type": "code",
   "execution_count": null,
   "id": "criminal-string",
   "metadata": {},
   "outputs": [],
   "source": [
    "plt.plot(n_iter_vals, create_t_per_iter_vals, label='Create iRODS data object')\n",
    "plt.plot(n_iter_vals, unlink_t_per_iter_vals, label='Unlink iRODS data object')\n",
    "plt.plot(n_iter_vals, get_t_per_iter_vals, label='Get iRODS data object')\n",
    "plt.axhline(1/3500, c='C3', ls=':', label='Upload AWS S3 object')\n",
    "plt.axhline(1/5500, c='C4', ls=':', label='Retrieve AWS S3 object')\n",
    "plt.xlabel('N iterations')\n",
    "plt.ylabel('sec / iteration')\n",
    "plt.yscale('log')\n",
    "plt.legend()\n",
    "plt.grid()"
   ]
  },
  {
   "cell_type": "code",
   "execution_count": null,
   "id": "imperial-width",
   "metadata": {},
   "outputs": [],
   "source": []
  }
 ],
 "metadata": {
  "kernelspec": {
   "display_name": "Python 3",
   "language": "python",
   "name": "python3"
  },
  "language_info": {
   "codemirror_mode": {
    "name": "ipython",
    "version": 3
   },
   "file_extension": ".py",
   "mimetype": "text/x-python",
   "name": "python",
   "nbconvert_exporter": "python",
   "pygments_lexer": "ipython3",
   "version": "3.8.6"
  }
 },
 "nbformat": 4,
 "nbformat_minor": 5
}
